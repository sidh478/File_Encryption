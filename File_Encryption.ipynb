{
 "cells": [
  {
   "cell_type": "code",
   "execution_count": 3,
   "id": "6ad9cbab",
   "metadata": {},
   "outputs": [
    {
     "name": "stdout",
     "output_type": "stream",
     "text": [
      "Enter the name of the input file: wowlabz.txt\n",
      "Enter the name of the output file: wowlabz_encrypted.txt\n",
      "Enter the shift value: 3\n",
      "Encryption complete. Encrypted file saved as 'wowlabz_encrypted.txt'.\n"
     ]
    }
   ],
   "source": [
    "#importing library\n",
    "import os\n",
    "\n",
    "#changing the path of directory\n",
    "os.chdir(r'C:\\Users\\harsh\\Downloads\\Wow Labz')\n",
    "\n",
    "def encrypt_file(input_file, output_file, shift): #defining function with 3 input parameter\n",
    "    ''' This function perfoms File encryption operations\n",
    "        This function has 3 arguments(input_file, output_file, shift)\n",
    "        \n",
    "        input_file: input_file must end with txt extension.\n",
    "        Example:input.txt\n",
    "        \n",
    "        output_file: output_file must end with txt extension.\n",
    "        Example:output.txt\n",
    "        \n",
    "        shift: shift indicates how many shifts needs to be made.\n",
    "        Example:3\n",
    "        Note: shift takes only integer. \n",
    "        \n",
    "    '''\n",
    "    with open(input_file, 'r') as file: #opens input file in read mode and assigns it to the file variable\n",
    "        contents = file.read() #reads the entire contents of the file and assigns it to the contents variable.\n",
    "\n",
    "    encrypted_text = \"\" #empty string variable to store encrypted text\n",
    "    for char in contents: #loop for each character inside contents\n",
    "        if char.isalpha(): #checks if the character is an alphabet\n",
    "            ascii_val = ord(char) #retrieves the ASCII value of the character\n",
    "            if char.islower(): #checks if character is lower case\n",
    "                encrypted_ascii = (ascii_val - ord('a') + shift) % 26 + ord('a') #this shift ascii value withinin range of (a-z) and then adjust back to corresponding ASCII value  \n",
    "            else: #Upper case block\n",
    "                encrypted_ascii = (ascii_val - ord('A') + shift) % 26 + ord('A') #this shift ascii value within range of (A-Z) and then adjust back to corresponding ASCII value\n",
    "            encrypted_char = chr(encrypted_ascii) #converts encrypted_ascii value to encrypted character\n",
    "            encrypted_text += encrypted_char #appends the encrypted_char to the encrypted_text\n",
    "        else: #non aplhabatic block\n",
    "            encrypted_text += char #appends to encrypted_text without encryption\n",
    "\n",
    "    with open(output_file, 'w') as file: #statement opens the output file in write mode and assigns it to the file variable\n",
    "        file.write(encrypted_text) #writes the encrypted text to the output file\n",
    "\n",
    "    print(f\"Encryption complete. Encrypted file saved as '{output_file}'.\") #Encryption complete and gives name of the encrypted output file\n",
    "\n",
    "\n",
    "def main(): #entry point to the program\n",
    "    input_file = input(\"Enter the name of the input file: \") #prompts the user to enter the name of the input file\n",
    "    output_file = input(\"Enter the name of the output file: \") #prompts the user to enter the name of the output file\n",
    "    shift = int(input(\"Enter the shift value: \")) #prompts the user to enter the shift value and converts the input to an integer\n",
    "\n",
    "    encrypt_file(input_file, output_file, shift) #calling encrypt_file function with agruments\n",
    "\n",
    "    \n",
    "#This line checks if the script is being run\n",
    "if __name__ == '__main__': \n",
    "    main()\n"
   ]
  },
  {
   "cell_type": "code",
   "execution_count": null,
   "id": "411590c6",
   "metadata": {},
   "outputs": [],
   "source": []
  }
 ],
 "metadata": {
  "kernelspec": {
   "display_name": "Python 3 (ipykernel)",
   "language": "python",
   "name": "python3"
  },
  "language_info": {
   "codemirror_mode": {
    "name": "ipython",
    "version": 3
   },
   "file_extension": ".py",
   "mimetype": "text/x-python",
   "name": "python",
   "nbconvert_exporter": "python",
   "pygments_lexer": "ipython3",
   "version": "3.9.13"
  }
 },
 "nbformat": 4,
 "nbformat_minor": 5
}
